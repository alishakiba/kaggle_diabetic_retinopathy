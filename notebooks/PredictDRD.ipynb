{
 "metadata": {
  "name": "",
  "signature": "sha256:cc8e9102957cc0752c6654890d50d62a7fa5f6d43e1e0ac8b75d2e4de11c00c8"
 },
 "nbformat": 3,
 "nbformat_minor": 0,
 "worksheets": [
  {
   "cells": [
    {
     "cell_type": "code",
     "collapsed": false,
     "input": [
      "import sys\n",
      "sys.path.append('../')\n",
      "\n",
      "\n",
      "import cPickle as pickle\n",
      "import re\n",
      "import glob\n",
      "import os\n",
      "\n",
      "import time\n",
      "\n",
      "import theano\n",
      "import theano.tensor as T\n",
      "import numpy as np\n",
      "import pandas as p\n",
      "import lasagne as nn\n",
      "\n",
      "from PIL import Image\n",
      "\n",
      "from utils import hms, architecture_string, get_img_ids_from_iter"
     ],
     "language": "python",
     "metadata": {},
     "outputs": [],
     "prompt_number": 1
    },
    {
     "cell_type": "code",
     "collapsed": false,
     "input": [
      "%pylab inline\n",
      "rcParams['figure.figsize'] = 16, 6\n",
      "np.set_printoptions(precision=3)\n",
      "np.set_printoptions(suppress=True)"
     ],
     "language": "python",
     "metadata": {},
     "outputs": [
      {
       "output_type": "stream",
       "stream": "stdout",
       "text": [
        "Populating the interactive namespace from numpy and matplotlib\n"
       ]
      }
     ],
     "prompt_number": 2
    },
    {
     "cell_type": "code",
     "collapsed": false,
     "input": [
      "dump_path = '../dumps/2015_07_17_123003_PARAMSDUMP.pkl'"
     ],
     "language": "python",
     "metadata": {},
     "outputs": [],
     "prompt_number": 3
    },
    {
     "cell_type": "code",
     "collapsed": false,
     "input": [
      "model_data = pickle.load(open(dump_path, 'r'))"
     ],
     "language": "python",
     "metadata": {},
     "outputs": [],
     "prompt_number": 4
    },
    {
     "cell_type": "code",
     "collapsed": false,
     "input": [
      "from models import basic_model as model"
     ],
     "language": "python",
     "metadata": {},
     "outputs": [
      {
       "output_type": "stream",
       "stream": "stdout",
       "text": [
        "No cudnn, not imported.\n",
        "Orig test preds:\n",
        "\n"
       ]
      },
      {
       "output_type": "stream",
       "stream": "stdout",
       "text": [
        "\n",
        "[[-0.095 -2.872 -3.897 -6.56  -8.44 ]\n",
        " [-0.087 -2.893 -4.408 -7.328 -9.809]\n",
        " [-0.076 -3.022 -4.426 -6.535 -7.418]\n",
        " [-0.098 -2.904 -4.264 -6.608 -7.409]\n",
        " [-7.209 -3.829 -0.105 -3.082 -7.234]\n",
        " [-3.843 -0.859 -0.943 -5.2   -7.845]\n",
        " [-0.662 -1.474 -2.454 -5.28  -7.359]\n",
        " [-0.462 -1.696 -2.709 -5.555 -7.515]\n",
        " [-0.031 -4.066 -4.849 -6.438 -7.147]\n",
        " [-0.027 -4.258 -5.101 -6.45  -7.438]] \n",
        "\n",
        "\n",
        "Images for test:\n",
        "\n",
        "\n",
        "[] \n",
        "\n",
        "\n",
        "Labels for test:\n",
        "\n",
        "\n",
        "[[[ 0.688  0.172  0.103  0.027  0.011]\n",
        "  [ 0.717  0.176  0.083  0.019  0.006]]\n",
        "\n",
        " [[ 0.71   0.163  0.081  0.028  0.018]\n",
        "  [ 0.697  0.171  0.087  0.027  0.018]]\n",
        "\n",
        " [[ 0.02   0.108  0.695  0.157  0.02 ]\n",
        "  [ 0.097  0.429  0.412  0.049  0.013]]\n",
        "\n",
        " [[ 0.453  0.302  0.185  0.045  0.016]\n",
        "  [ 0.507  0.274  0.165  0.04   0.015]]\n",
        "\n",
        " [[ 0.774  0.103  0.07   0.031  0.022]\n",
        "  [ 0.791  0.095  0.063  0.032  0.019]]] \n",
        "\n"
       ]
      },
      {
       "output_type": "stream",
       "stream": "stderr",
       "text": [
        "/opt/anaconda/lib/python2.7/site-packages/pandas/core/common.py:276: DeprecationWarning: numpy boolean negative (the unary `-` operator) is deprecated, use the bitwise_xor (the `^` operator) or the logical_xor function instead.\n",
        "  return -res\n"
       ]
      }
     ],
     "prompt_number": 5
    },
    {
     "cell_type": "code",
     "collapsed": false,
     "input": [
      "LEARNING_RATE_SCHEDULE = model.LEARNING_RATE_SCHEDULE\n",
      "prefix_train = model.prefix_train if hasattr(model, 'prefix_train') else \\\n",
      "    '/run/shm/train_ds2_crop/'\n",
      "prefix_test = model.prefix_test if hasattr(model, 'prefix_test') else \\\n",
      "    '/run/shm/test_ds2_crop/'\n",
      "SEED = model.SEED if hasattr(model, 'SEED') else 11111\n",
      "\n",
      "id_train, y_train = model.id_train, model.y_train\n",
      "id_valid, y_valid = model.id_valid, model.y_valid\n",
      "id_train_oversample = model.id_train_oversample,\n",
      "labels_train_oversample = model.labels_train_oversample\n",
      "\n",
      "sample_coefs = model.sample_coefs if hasattr(model, 'sample_coefs') \\\n",
      "    else [0, 7, 3, 22, 25]\n",
      "\n",
      "l_out, l_ins = model.build_model()"
     ],
     "language": "python",
     "metadata": {},
     "outputs": [],
     "prompt_number": 6
    },
    {
     "cell_type": "code",
     "collapsed": false,
     "input": [
      "# params = nn.layers.get_all_param_values(l_out)\n",
      "# for p, v in zip(params, model_data):\n",
      "#     p = v\n",
      "# l_out.params = model_data"
     ],
     "language": "python",
     "metadata": {},
     "outputs": [],
     "prompt_number": 7
    },
    {
     "cell_type": "code",
     "collapsed": false,
     "input": [
      "nn.layers.set_all_param_values(l_out, model_data)"
     ],
     "language": "python",
     "metadata": {},
     "outputs": [
      {
       "output_type": "stream",
       "stream": "stderr",
       "text": [
        "/opt/anaconda/lib/python2.7/site-packages/Lasagne-0.1.dev0-py2.7.egg/lasagne/layers/helper.py:69: UserWarning: get_all_layers() has been changed to return layers in topological order. The former implementation is still available as get_all_layers_old(), but will be removed before the first release of Lasagne. To ignore this warning, use `warnings.filterwarnings('ignore', '.*topo.*')`.\n",
        "  warnings.warn(\"get_all_layers() has been changed to return layers in \"\n"
       ]
      }
     ],
     "prompt_number": 8
    },
    {
     "cell_type": "code",
     "collapsed": false,
     "input": [
      "chunk_size = 64\n",
      "batch_size = 64"
     ],
     "language": "python",
     "metadata": {},
     "outputs": [],
     "prompt_number": 9
    },
    {
     "cell_type": "code",
     "collapsed": false,
     "input": [
      "output = nn.layers.get_output(l_out, deterministic=True)\n",
      "input_ndims = [len(nn.layers.get_output_shape(l_in))\n",
      "               for l_in in l_ins]\n",
      "xs_shared = [nn.utils.shared_empty(dim=ndim)\n",
      "             for ndim in input_ndims]"
     ],
     "language": "python",
     "metadata": {},
     "outputs": [],
     "prompt_number": 10
    },
    {
     "cell_type": "code",
     "collapsed": false,
     "input": [
      "import pandas as pd\n",
      "OriginalLabels = pd.read_csv(r'../data/trainLabels.csv', sep=',')"
     ],
     "language": "python",
     "metadata": {},
     "outputs": [],
     "prompt_number": 11
    },
    {
     "cell_type": "code",
     "collapsed": false,
     "input": [
      "import glob\n",
      "temp1 = np.zeros((chunk_size, 3, 512, 512), dtype='float64')\n",
      "fileList = sorted(glob.glob(r'/home/ali/Desktop/kaggle_diabetic_retinopathy-master/data/64/*.tiff'))\n",
      "labels64 = []\n",
      "for i, f in enumerate(fileList):\n",
      "    temp1[i,:,:,:] = np.array(Image.open(f)).T / 255.0\n",
      "    fname = f.split('/')[-1].split('.')[0]\n",
      "    lbl = OriginalLabels.loc[OriginalLabels['image'] == fname]['level'].values.item(0)\n",
      "#     print lbl\n",
      "    labels64.append(lbl)\n",
      "xs_shared[0].set_value(temp1)\n",
      "print temp1.shape"
     ],
     "language": "python",
     "metadata": {},
     "outputs": [
      {
       "output_type": "stream",
       "stream": "stdout",
       "text": [
        "(64, 3, 512, 512)\n"
       ]
      }
     ],
     "prompt_number": 12
    },
    {
     "cell_type": "code",
     "collapsed": false,
     "input": [
      "temp2 = np.ones((chunk_size, 2), dtype='float64') * 512\n",
      "xs_shared[1].set_value(temp2)\n",
      "temp2.shape"
     ],
     "language": "python",
     "metadata": {},
     "outputs": [
      {
       "metadata": {},
       "output_type": "pyout",
       "prompt_number": 13,
       "text": [
        "(64, 2)"
       ]
      }
     ],
     "prompt_number": 13
    },
    {
     "cell_type": "code",
     "collapsed": false,
     "input": [
      "idx = T.lscalar('idx')\n",
      "\n",
      "givens = {}\n",
      "for l_in, x_shared in zip(l_ins, xs_shared):\n",
      "    givens[l_in.input_var] = x_shared[idx * batch_size:(idx + 1) * batch_size]"
     ],
     "language": "python",
     "metadata": {},
     "outputs": [],
     "prompt_number": 15
    },
    {
     "cell_type": "code",
     "collapsed": false,
     "input": [
      "compute_output = theano.function(\n",
      "    [idx],\n",
      "    output,\n",
      "    givens=givens,\n",
      "    on_unused_input='ignore'\n",
      ")"
     ],
     "language": "python",
     "metadata": {},
     "outputs": []
    },
    {
     "cell_type": "raw",
     "metadata": {},
     "source": [
      "import pandas as pd\n",
      "OriginalLabels = pd.read_csv(r'../data/trainLabels.csv', sep=',')"
     ]
    },
    {
     "cell_type": "raw",
     "metadata": {},
     "source": [
      "import glob\n",
      "temp1 = np.zeros((chunk_size, 3, 512, 512), dtype='float64')\n",
      "fileList = glob.glob(r'/home/ali/Desktop/kaggle_diabetic_retinopathy-master/data/64/*.tiff')\n",
      "labels64 = []\n",
      "for i, f in enumerate(fileList):\n",
      "    temp1[i,:,:,:] = np.array(Image.open(f)).T / 255.0\n",
      "    fname = f.split('/')[-1].split('.')[0]\n",
      "    lbl = OriginalLabels.loc[OriginalLabels['image'] == fname]['level'].values.item(0)\n",
      "#     print lbl\n",
      "    labels64.append(lbl)\n",
      "xs_shared[0].set_value(temp1)\n",
      "print temp1.shape"
     ]
    },
    {
     "cell_type": "raw",
     "metadata": {},
     "source": [
      "temp2 = np.ones((chunk_size, 2), dtype='float64') * 512\n",
      "xs_shared[1].set_value(temp2)\n",
      "temp2.shape"
     ]
    },
    {
     "cell_type": "code",
     "collapsed": false,
     "input": [
      "l_out.params"
     ],
     "language": "python",
     "metadata": {},
     "outputs": []
    },
    {
     "cell_type": "code",
     "collapsed": false,
     "input": [
      "%time predictions = compute_output(0)"
     ],
     "language": "python",
     "metadata": {},
     "outputs": []
    },
    {
     "cell_type": "code",
     "collapsed": false,
     "input": [
      "results = []\n",
      "for i, p in enumerate(predictions):\n",
      "    resul = dict()\n",
      "    resul['fileName'] = fileList[i].split('/')[-1].split('.')[0]\n",
      "    resul['original'] = labels64[i]\n",
      "    resul['pred'] = p\n",
      "    results.append(resul)"
     ],
     "language": "python",
     "metadata": {},
     "outputs": []
    },
    {
     "cell_type": "code",
     "collapsed": false,
     "input": [
      "for i in results:\n",
      "    print i"
     ],
     "language": "python",
     "metadata": {},
     "outputs": []
    },
    {
     "cell_type": "code",
     "collapsed": false,
     "input": [
      "len(model_data)"
     ],
     "language": "python",
     "metadata": {},
     "outputs": []
    },
    {
     "cell_type": "code",
     "collapsed": false,
     "input": [],
     "language": "python",
     "metadata": {},
     "outputs": []
    },
    {
     "cell_type": "code",
     "collapsed": false,
     "input": [],
     "language": "python",
     "metadata": {},
     "outputs": []
    },
    {
     "cell_type": "code",
     "collapsed": false,
     "input": [],
     "language": "python",
     "metadata": {},
     "outputs": []
    }
   ],
   "metadata": {}
  }
 ]
}